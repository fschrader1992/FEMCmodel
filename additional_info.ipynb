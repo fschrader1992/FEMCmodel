{
 "cells": [
  {
   "cell_type": "markdown",
   "source": [
    "# Supplementary Information\n",
    "\n",
    "This file contains some additional information like short calculations not \n",
    "contained in the main text.\n",
    "\n",
    "### Standard Deviation Calculation\n",
    "\n",
    "To create simulations and also being able to directly compare the parameters from\n",
    "simulation and experiment for Murakami's On-Line illusion, we have to derive the \n",
    "standard deviation for the trajectories from the Diffusion constant for FEM \n",
    "trajectories. The mean square displacement at time $t$ for diffusion is\n",
    "\n",
    "$ \n",
    "\\sigma^2 = 2 d D t\n",
    "$\n",
    "\n",
    "$D=100$ arcmin$^2$/s is the diffusion constant and $d$ is the dimension, equal to 2 \n",
    "for FEM. The time step in the simulation is $\\Delta t=1$ ms. Thus we get\n",
    "\n",
    "$\\sigma_{\\Delta t} = \\sqrt{2\\cdot 2 \\cdot 100 \\mathrm{arcmin}^2\\mathrm{/s} \\cdot 0.001 \n",
    "\\mathrm{s}} \\approx 0.632\\mathrm{arcmin/ms}$\n",
    "\n",
    "which is the value in the `image_creation` files. For comparison in Murakami's On-Line\n",
    "illusion we change to deg/s and get\n",
    "\n",
    "$\\sigma = 0.33 \\mathrm{deg/s}$\n",
    "\n",
    "### Bin Velocities\n",
    "\n",
    "For motion detection, we sampled spikes into intervals of 15ms length and checked two\n",
    "neighboring cells with a delay (in number of bins) for spikes. Thus for each delay a\n",
    "range of velocities is contained. For orientation here is a short list of some of these \n",
    "velocities for interval length 15ms and cell spacing 2arcmin, which might be helpful\n",
    "when changing parameters in the simulations.\n",
    "\n",
    "| Delay (# of bins)  | $v_{\\mathrm{min}}$ \\[arcmin/s\\] | $v_{\\mathrm{max}}$ \\[arcmin/s\\] |\n",
    "| ------------- | ------------- | ------------- |\n",
    "| 3 | 33,33 | 66,67 |\n",
    "| 4 | 26,67 | 44,44 |\n",
    "| 5 | 22,22 | 33,33 |\n",
    "| 6 | 19,05 | 26,67 |\n",
    "\n",
    "### Sigmoid Function \n",
    "\n",
    "In the simulations for Murakami's On-Line illusion we fitted a sigmoid curve \n",
    "$\\tilde{n}=s(\\sigma)$ to the number $\\tilde{n}$ of bins with motion signal for varying \n",
    "trajectories' standard deviation $\\sigma$. We used the following sigmoid function\n",
    "\n",
    "$\n",
    "\\tilde{n} = s(\\sigma) = \\frac{a}{b + \\exp(-c \\sigma)}\n",
    "$\n",
    "\n",
    "with $a$, $b$ and $c$ as fit parameters. To determine the equivalent value of $\\sigma$ \n",
    "in the further procedure, we had to use the inverse function which is\n",
    "\n",
    "$\n",
    "\\sigma = s^{-1}(\\tilde{n}) = - \\frac{1}{c} \\log\\left( \\frac{a}{\\tilde{n}} - b \\right)\n",
    "$"
   ],
   "metadata": {
    "collapsed": false,
    "pycharm": {
     "name": "#%% md\n"
    }
   }
  },
  {
   "cell_type": "markdown",
   "source": [
    "\n"
   ],
   "metadata": {
    "collapsed": false
   }
  }
 ],
 "metadata": {
  "kernelspec": {
   "display_name": "Python 3",
   "language": "python",
   "name": "python3"
  },
  "language_info": {
   "codemirror_mode": {
    "name": "ipython",
    "version": 2
   },
   "file_extension": ".py",
   "mimetype": "text/x-python",
   "name": "python",
   "nbconvert_exporter": "python",
   "pygments_lexer": "ipython2",
   "version": "2.7.6"
  },
  "pycharm": {
   "stem_cell": {
    "cell_type": "raw",
    "source": [],
    "metadata": {
     "collapsed": false
    }
   }
  }
 },
 "nbformat": 4,
 "nbformat_minor": 0
}