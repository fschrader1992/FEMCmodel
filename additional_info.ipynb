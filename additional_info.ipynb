{
 "cells": [
  {
   "cell_type": "markdown",
   "source": [
    "# Supplementary Information\n",
    "\n",
    "This file contains some additional information like short calculations not \n",
    "contained in the main text.\n",
    "\n",
    "### Standard Deviation Calculation\n",
    "\n",
    "To create simulations and also being able to directly compare the parameters from\n",
    "simulation and experiment for Murakami's On-Line illusion, we have to derive the \n",
    "standard deviation for the trajectories from the Diffusion constant for FEM \n",
    "trajectories. The mean square displacement at time $t$ for diffusion is\n",
    "\n",
    "$ \n",
    "\\sigma = 2 d D t\n",
    "$\n",
    "\n",
    "### Sigmoid Function \n",
    "\n",
    "### Bin Velocities\n",
    "\n",
    "### All four possibilities with Murakami\n",
    "+ single lines as example\n",
    "\n",
    "### Discussion about GMDN connections\n",
    "\n"
   ],
   "metadata": {
    "collapsed": false,
    "pycharm": {
     "name": "#%% md\n"
    }
   }
  },
  {
   "cell_type": "markdown",
   "source": [
    "\n"
   ],
   "metadata": {
    "collapsed": false
   }
  }
 ],
 "metadata": {
  "kernelspec": {
   "display_name": "Python 3",
   "language": "python",
   "name": "python3"
  },
  "language_info": {
   "codemirror_mode": {
    "name": "ipython",
    "version": 2
   },
   "file_extension": ".py",
   "mimetype": "text/x-python",
   "name": "python",
   "nbconvert_exporter": "python",
   "pygments_lexer": "ipython2",
   "version": "2.7.6"
  },
  "pycharm": {
   "stem_cell": {
    "cell_type": "raw",
    "source": [],
    "metadata": {
     "collapsed": false
    }
   }
  }
 },
 "nbformat": 4,
 "nbformat_minor": 0
}